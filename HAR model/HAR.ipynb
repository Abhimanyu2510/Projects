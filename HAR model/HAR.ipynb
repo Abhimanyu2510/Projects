{
 "cells": [
  {
   "cell_type": "code",
   "execution_count": 20,
   "id": "initial_id",
   "metadata": {
    "collapsed": true,
    "ExecuteTime": {
     "end_time": "2023-10-07T10:48:08.131809Z",
     "start_time": "2023-10-07T10:48:08.007391700Z"
    }
   },
   "outputs": [],
   "source": [
    "# Dataset - https://www.kaggle.com/datasets/uciml/human-activity-recognition-with-smartphones"
   ]
  },
  {
   "cell_type": "code",
   "execution_count": 21,
   "outputs": [],
   "source": [
    "import pandas as pd\n",
    "import seaborn as sns\n",
    "import matplotlib.pyplot as plt"
   ],
   "metadata": {
    "collapsed": false,
    "ExecuteTime": {
     "end_time": "2023-10-07T10:48:08.298838Z",
     "start_time": "2023-10-07T10:48:08.019402800Z"
    }
   },
   "id": "3a0816fd214819e6"
  },
  {
   "cell_type": "code",
   "execution_count": 22,
   "outputs": [],
   "source": [
    "# Importing the dataset\n",
    "data = pd.read_csv(r\"C:\\Users\\Abhimanyu\\Desktop\\dataset\\train.csv\")\n",
    "data_test = pd.read_csv(r\"C:\\Users\\Abhimanyu\\Desktop\\dataset\\test.csv\")"
   ],
   "metadata": {
    "collapsed": false,
    "ExecuteTime": {
     "end_time": "2023-10-07T10:48:10.126804200Z",
     "start_time": "2023-10-07T10:48:08.034157100Z"
    }
   },
   "id": "a6b5331d7a733b1c"
  },
  {
   "cell_type": "code",
   "execution_count": 23,
   "outputs": [
    {
     "data": {
      "text/plain": "   tBodyAcc-mean()-X  tBodyAcc-mean()-Y  tBodyAcc-mean()-Z  tBodyAcc-std()-X  \\\n0           0.288585          -0.020294          -0.132905         -0.995279   \n1           0.278419          -0.016411          -0.123520         -0.998245   \n2           0.279653          -0.019467          -0.113462         -0.995380   \n3           0.279174          -0.026201          -0.123283         -0.996091   \n4           0.276629          -0.016570          -0.115362         -0.998139   \n\n   tBodyAcc-std()-Y  tBodyAcc-std()-Z  tBodyAcc-mad()-X  tBodyAcc-mad()-Y  \\\n0         -0.983111         -0.913526         -0.995112         -0.983185   \n1         -0.975300         -0.960322         -0.998807         -0.974914   \n2         -0.967187         -0.978944         -0.996520         -0.963668   \n3         -0.983403         -0.990675         -0.997099         -0.982750   \n4         -0.980817         -0.990482         -0.998321         -0.979672   \n\n   tBodyAcc-mad()-Z  tBodyAcc-max()-X  ...  fBodyBodyGyroJerkMag-kurtosis()  \\\n0         -0.923527         -0.934724  ...                        -0.710304   \n1         -0.957686         -0.943068  ...                        -0.861499   \n2         -0.977469         -0.938692  ...                        -0.760104   \n3         -0.989302         -0.938692  ...                        -0.482845   \n4         -0.990441         -0.942469  ...                        -0.699205   \n\n   angle(tBodyAccMean,gravity)  angle(tBodyAccJerkMean),gravityMean)  \\\n0                    -0.112754                              0.030400   \n1                     0.053477                             -0.007435   \n2                    -0.118559                              0.177899   \n3                    -0.036788                             -0.012892   \n4                     0.123320                              0.122542   \n\n   angle(tBodyGyroMean,gravityMean)  angle(tBodyGyroJerkMean,gravityMean)  \\\n0                         -0.464761                             -0.018446   \n1                         -0.732626                              0.703511   \n2                          0.100699                              0.808529   \n3                          0.640011                             -0.485366   \n4                          0.693578                             -0.615971   \n\n   angle(X,gravityMean)  angle(Y,gravityMean)  angle(Z,gravityMean)  subject  \\\n0             -0.841247              0.179941             -0.058627        1   \n1             -0.844788              0.180289             -0.054317        1   \n2             -0.848933              0.180637             -0.049118        1   \n3             -0.848649              0.181935             -0.047663        1   \n4             -0.847865              0.185151             -0.043892        1   \n\n   Activity  \n0  STANDING  \n1  STANDING  \n2  STANDING  \n3  STANDING  \n4  STANDING  \n\n[5 rows x 563 columns]",
      "text/html": "<div>\n<style scoped>\n    .dataframe tbody tr th:only-of-type {\n        vertical-align: middle;\n    }\n\n    .dataframe tbody tr th {\n        vertical-align: top;\n    }\n\n    .dataframe thead th {\n        text-align: right;\n    }\n</style>\n<table border=\"1\" class=\"dataframe\">\n  <thead>\n    <tr style=\"text-align: right;\">\n      <th></th>\n      <th>tBodyAcc-mean()-X</th>\n      <th>tBodyAcc-mean()-Y</th>\n      <th>tBodyAcc-mean()-Z</th>\n      <th>tBodyAcc-std()-X</th>\n      <th>tBodyAcc-std()-Y</th>\n      <th>tBodyAcc-std()-Z</th>\n      <th>tBodyAcc-mad()-X</th>\n      <th>tBodyAcc-mad()-Y</th>\n      <th>tBodyAcc-mad()-Z</th>\n      <th>tBodyAcc-max()-X</th>\n      <th>...</th>\n      <th>fBodyBodyGyroJerkMag-kurtosis()</th>\n      <th>angle(tBodyAccMean,gravity)</th>\n      <th>angle(tBodyAccJerkMean),gravityMean)</th>\n      <th>angle(tBodyGyroMean,gravityMean)</th>\n      <th>angle(tBodyGyroJerkMean,gravityMean)</th>\n      <th>angle(X,gravityMean)</th>\n      <th>angle(Y,gravityMean)</th>\n      <th>angle(Z,gravityMean)</th>\n      <th>subject</th>\n      <th>Activity</th>\n    </tr>\n  </thead>\n  <tbody>\n    <tr>\n      <th>0</th>\n      <td>0.288585</td>\n      <td>-0.020294</td>\n      <td>-0.132905</td>\n      <td>-0.995279</td>\n      <td>-0.983111</td>\n      <td>-0.913526</td>\n      <td>-0.995112</td>\n      <td>-0.983185</td>\n      <td>-0.923527</td>\n      <td>-0.934724</td>\n      <td>...</td>\n      <td>-0.710304</td>\n      <td>-0.112754</td>\n      <td>0.030400</td>\n      <td>-0.464761</td>\n      <td>-0.018446</td>\n      <td>-0.841247</td>\n      <td>0.179941</td>\n      <td>-0.058627</td>\n      <td>1</td>\n      <td>STANDING</td>\n    </tr>\n    <tr>\n      <th>1</th>\n      <td>0.278419</td>\n      <td>-0.016411</td>\n      <td>-0.123520</td>\n      <td>-0.998245</td>\n      <td>-0.975300</td>\n      <td>-0.960322</td>\n      <td>-0.998807</td>\n      <td>-0.974914</td>\n      <td>-0.957686</td>\n      <td>-0.943068</td>\n      <td>...</td>\n      <td>-0.861499</td>\n      <td>0.053477</td>\n      <td>-0.007435</td>\n      <td>-0.732626</td>\n      <td>0.703511</td>\n      <td>-0.844788</td>\n      <td>0.180289</td>\n      <td>-0.054317</td>\n      <td>1</td>\n      <td>STANDING</td>\n    </tr>\n    <tr>\n      <th>2</th>\n      <td>0.279653</td>\n      <td>-0.019467</td>\n      <td>-0.113462</td>\n      <td>-0.995380</td>\n      <td>-0.967187</td>\n      <td>-0.978944</td>\n      <td>-0.996520</td>\n      <td>-0.963668</td>\n      <td>-0.977469</td>\n      <td>-0.938692</td>\n      <td>...</td>\n      <td>-0.760104</td>\n      <td>-0.118559</td>\n      <td>0.177899</td>\n      <td>0.100699</td>\n      <td>0.808529</td>\n      <td>-0.848933</td>\n      <td>0.180637</td>\n      <td>-0.049118</td>\n      <td>1</td>\n      <td>STANDING</td>\n    </tr>\n    <tr>\n      <th>3</th>\n      <td>0.279174</td>\n      <td>-0.026201</td>\n      <td>-0.123283</td>\n      <td>-0.996091</td>\n      <td>-0.983403</td>\n      <td>-0.990675</td>\n      <td>-0.997099</td>\n      <td>-0.982750</td>\n      <td>-0.989302</td>\n      <td>-0.938692</td>\n      <td>...</td>\n      <td>-0.482845</td>\n      <td>-0.036788</td>\n      <td>-0.012892</td>\n      <td>0.640011</td>\n      <td>-0.485366</td>\n      <td>-0.848649</td>\n      <td>0.181935</td>\n      <td>-0.047663</td>\n      <td>1</td>\n      <td>STANDING</td>\n    </tr>\n    <tr>\n      <th>4</th>\n      <td>0.276629</td>\n      <td>-0.016570</td>\n      <td>-0.115362</td>\n      <td>-0.998139</td>\n      <td>-0.980817</td>\n      <td>-0.990482</td>\n      <td>-0.998321</td>\n      <td>-0.979672</td>\n      <td>-0.990441</td>\n      <td>-0.942469</td>\n      <td>...</td>\n      <td>-0.699205</td>\n      <td>0.123320</td>\n      <td>0.122542</td>\n      <td>0.693578</td>\n      <td>-0.615971</td>\n      <td>-0.847865</td>\n      <td>0.185151</td>\n      <td>-0.043892</td>\n      <td>1</td>\n      <td>STANDING</td>\n    </tr>\n  </tbody>\n</table>\n<p>5 rows × 563 columns</p>\n</div>"
     },
     "execution_count": 23,
     "metadata": {},
     "output_type": "execute_result"
    }
   ],
   "source": [
    "# Display top 5 rows of dataset\n",
    "data.head(5) "
   ],
   "metadata": {
    "collapsed": false,
    "ExecuteTime": {
     "end_time": "2023-10-07T10:48:10.184818900Z",
     "start_time": "2023-10-07T10:48:10.131335200Z"
    }
   },
   "id": "7dd6c10d172c3df7"
  },
  {
   "cell_type": "code",
   "execution_count": 24,
   "outputs": [
    {
     "data": {
      "text/plain": "      tBodyAcc-mean()-X  tBodyAcc-mean()-Y  tBodyAcc-mean()-Z  \\\n7347           0.299665          -0.057193          -0.181233   \n7348           0.273853          -0.007749          -0.147468   \n7349           0.273387          -0.017011          -0.045022   \n7350           0.289654          -0.018843          -0.158281   \n7351           0.351503          -0.012423          -0.203867   \n\n      tBodyAcc-std()-X  tBodyAcc-std()-Y  tBodyAcc-std()-Z  tBodyAcc-mad()-X  \\\n7347         -0.195387          0.039905          0.077078         -0.282301   \n7348         -0.235309          0.004816          0.059280         -0.322552   \n7349         -0.218218         -0.103822          0.274533         -0.304515   \n7350         -0.219139         -0.111412          0.268893         -0.310487   \n7351         -0.269270         -0.087212          0.177404         -0.377404   \n\n      tBodyAcc-mad()-Y  tBodyAcc-mad()-Z  tBodyAcc-max()-X  ...  \\\n7347          0.043616          0.060410          0.210795  ...   \n7348         -0.029456          0.080585          0.117440  ...   \n7349         -0.098913          0.332584          0.043999  ...   \n7350         -0.068200          0.319473          0.101702  ...   \n7351         -0.038678          0.229430          0.269013  ...   \n\n      fBodyBodyGyroJerkMag-kurtosis()  angle(tBodyAccMean,gravity)  \\\n7347                        -0.880324                    -0.190437   \n7348                        -0.680744                     0.064907   \n7349                        -0.304029                     0.052806   \n7350                        -0.344314                    -0.101360   \n7351                        -0.740738                    -0.280088   \n\n      angle(tBodyAccJerkMean),gravityMean)  angle(tBodyGyroMean,gravityMean)  \\\n7347                              0.829718                          0.206972   \n7348                              0.875679                         -0.879033   \n7349                             -0.266724                          0.864404   \n7350                              0.700740                          0.936674   \n7351                             -0.007739                         -0.056088   \n\n      angle(tBodyGyroJerkMean,gravityMean)  angle(X,gravityMean)  \\\n7347                             -0.425619             -0.791883   \n7348                              0.400219             -0.771840   \n7349                              0.701169             -0.779133   \n7350                             -0.589479             -0.785181   \n7351                             -0.616956             -0.783267   \n\n      angle(Y,gravityMean)  angle(Z,gravityMean)  subject          Activity  \n7347              0.238604              0.049819       30  WALKING_UPSTAIRS  \n7348              0.252676              0.050053       30  WALKING_UPSTAIRS  \n7349              0.249145              0.040811       30  WALKING_UPSTAIRS  \n7350              0.246432              0.025339       30  WALKING_UPSTAIRS  \n7351              0.246809              0.036695       30  WALKING_UPSTAIRS  \n\n[5 rows x 563 columns]",
      "text/html": "<div>\n<style scoped>\n    .dataframe tbody tr th:only-of-type {\n        vertical-align: middle;\n    }\n\n    .dataframe tbody tr th {\n        vertical-align: top;\n    }\n\n    .dataframe thead th {\n        text-align: right;\n    }\n</style>\n<table border=\"1\" class=\"dataframe\">\n  <thead>\n    <tr style=\"text-align: right;\">\n      <th></th>\n      <th>tBodyAcc-mean()-X</th>\n      <th>tBodyAcc-mean()-Y</th>\n      <th>tBodyAcc-mean()-Z</th>\n      <th>tBodyAcc-std()-X</th>\n      <th>tBodyAcc-std()-Y</th>\n      <th>tBodyAcc-std()-Z</th>\n      <th>tBodyAcc-mad()-X</th>\n      <th>tBodyAcc-mad()-Y</th>\n      <th>tBodyAcc-mad()-Z</th>\n      <th>tBodyAcc-max()-X</th>\n      <th>...</th>\n      <th>fBodyBodyGyroJerkMag-kurtosis()</th>\n      <th>angle(tBodyAccMean,gravity)</th>\n      <th>angle(tBodyAccJerkMean),gravityMean)</th>\n      <th>angle(tBodyGyroMean,gravityMean)</th>\n      <th>angle(tBodyGyroJerkMean,gravityMean)</th>\n      <th>angle(X,gravityMean)</th>\n      <th>angle(Y,gravityMean)</th>\n      <th>angle(Z,gravityMean)</th>\n      <th>subject</th>\n      <th>Activity</th>\n    </tr>\n  </thead>\n  <tbody>\n    <tr>\n      <th>7347</th>\n      <td>0.299665</td>\n      <td>-0.057193</td>\n      <td>-0.181233</td>\n      <td>-0.195387</td>\n      <td>0.039905</td>\n      <td>0.077078</td>\n      <td>-0.282301</td>\n      <td>0.043616</td>\n      <td>0.060410</td>\n      <td>0.210795</td>\n      <td>...</td>\n      <td>-0.880324</td>\n      <td>-0.190437</td>\n      <td>0.829718</td>\n      <td>0.206972</td>\n      <td>-0.425619</td>\n      <td>-0.791883</td>\n      <td>0.238604</td>\n      <td>0.049819</td>\n      <td>30</td>\n      <td>WALKING_UPSTAIRS</td>\n    </tr>\n    <tr>\n      <th>7348</th>\n      <td>0.273853</td>\n      <td>-0.007749</td>\n      <td>-0.147468</td>\n      <td>-0.235309</td>\n      <td>0.004816</td>\n      <td>0.059280</td>\n      <td>-0.322552</td>\n      <td>-0.029456</td>\n      <td>0.080585</td>\n      <td>0.117440</td>\n      <td>...</td>\n      <td>-0.680744</td>\n      <td>0.064907</td>\n      <td>0.875679</td>\n      <td>-0.879033</td>\n      <td>0.400219</td>\n      <td>-0.771840</td>\n      <td>0.252676</td>\n      <td>0.050053</td>\n      <td>30</td>\n      <td>WALKING_UPSTAIRS</td>\n    </tr>\n    <tr>\n      <th>7349</th>\n      <td>0.273387</td>\n      <td>-0.017011</td>\n      <td>-0.045022</td>\n      <td>-0.218218</td>\n      <td>-0.103822</td>\n      <td>0.274533</td>\n      <td>-0.304515</td>\n      <td>-0.098913</td>\n      <td>0.332584</td>\n      <td>0.043999</td>\n      <td>...</td>\n      <td>-0.304029</td>\n      <td>0.052806</td>\n      <td>-0.266724</td>\n      <td>0.864404</td>\n      <td>0.701169</td>\n      <td>-0.779133</td>\n      <td>0.249145</td>\n      <td>0.040811</td>\n      <td>30</td>\n      <td>WALKING_UPSTAIRS</td>\n    </tr>\n    <tr>\n      <th>7350</th>\n      <td>0.289654</td>\n      <td>-0.018843</td>\n      <td>-0.158281</td>\n      <td>-0.219139</td>\n      <td>-0.111412</td>\n      <td>0.268893</td>\n      <td>-0.310487</td>\n      <td>-0.068200</td>\n      <td>0.319473</td>\n      <td>0.101702</td>\n      <td>...</td>\n      <td>-0.344314</td>\n      <td>-0.101360</td>\n      <td>0.700740</td>\n      <td>0.936674</td>\n      <td>-0.589479</td>\n      <td>-0.785181</td>\n      <td>0.246432</td>\n      <td>0.025339</td>\n      <td>30</td>\n      <td>WALKING_UPSTAIRS</td>\n    </tr>\n    <tr>\n      <th>7351</th>\n      <td>0.351503</td>\n      <td>-0.012423</td>\n      <td>-0.203867</td>\n      <td>-0.269270</td>\n      <td>-0.087212</td>\n      <td>0.177404</td>\n      <td>-0.377404</td>\n      <td>-0.038678</td>\n      <td>0.229430</td>\n      <td>0.269013</td>\n      <td>...</td>\n      <td>-0.740738</td>\n      <td>-0.280088</td>\n      <td>-0.007739</td>\n      <td>-0.056088</td>\n      <td>-0.616956</td>\n      <td>-0.783267</td>\n      <td>0.246809</td>\n      <td>0.036695</td>\n      <td>30</td>\n      <td>WALKING_UPSTAIRS</td>\n    </tr>\n  </tbody>\n</table>\n<p>5 rows × 563 columns</p>\n</div>"
     },
     "execution_count": 24,
     "metadata": {},
     "output_type": "execute_result"
    }
   ],
   "source": [
    "# Display last 5 rows of dataset\n",
    "data.tail(5)"
   ],
   "metadata": {
    "collapsed": false,
    "ExecuteTime": {
     "end_time": "2023-10-07T10:48:10.225549800Z",
     "start_time": "2023-10-07T10:48:10.174489700Z"
    }
   },
   "id": "5c9f9f2e9eb5a16e"
  },
  {
   "cell_type": "code",
   "execution_count": 25,
   "outputs": [
    {
     "name": "stdout",
     "output_type": "stream",
     "text": [
      "(7352, 563)\n",
      "Number of rows 7352\n",
      "Number of columns 563\n"
     ]
    }
   ],
   "source": [
    "# Find shape of dataset, i.e rows and columns\n",
    "print(data.shape)\n",
    "print(\"Number of rows\", data.shape[0])\n",
    "print(\"Number of columns\", data.shape[1])"
   ],
   "metadata": {
    "collapsed": false,
    "ExecuteTime": {
     "end_time": "2023-10-07T10:48:10.266155800Z",
     "start_time": "2023-10-07T10:48:10.220871800Z"
    }
   },
   "id": "d154ed997fcd0feb"
  },
  {
   "cell_type": "code",
   "execution_count": 26,
   "outputs": [
    {
     "data": {
      "text/plain": "False"
     },
     "execution_count": 26,
     "metadata": {},
     "output_type": "execute_result"
    }
   ],
   "source": [
    "# Taking care of duplicated values\n",
    "data.duplicated().any() # For rows"
   ],
   "metadata": {
    "collapsed": false,
    "ExecuteTime": {
     "end_time": "2023-10-07T10:48:10.959970600Z",
     "start_time": "2023-10-07T10:48:10.234212600Z"
    }
   },
   "id": "bf19612171d835a8"
  },
  {
   "cell_type": "code",
   "execution_count": 27,
   "outputs": [
    {
     "data": {
      "text/plain": "21"
     },
     "execution_count": 27,
     "metadata": {},
     "output_type": "execute_result"
    }
   ],
   "source": [
    "# For checking columns\n",
    "duplicated_columns = data.columns[data.T.duplicated()].tolist()\n",
    "len(duplicated_columns)"
   ],
   "metadata": {
    "collapsed": false,
    "ExecuteTime": {
     "end_time": "2023-10-07T10:48:16.652125200Z",
     "start_time": "2023-10-07T10:48:10.953787700Z"
    }
   },
   "id": "4c1b177f25a4fdf4"
  },
  {
   "cell_type": "code",
   "execution_count": 28,
   "outputs": [
    {
     "data": {
      "text/plain": "(7352, 542)"
     },
     "execution_count": 28,
     "metadata": {},
     "output_type": "execute_result"
    }
   ],
   "source": [
    "# Removing duplicate columns\n",
    "data = data.drop(duplicated_columns,axis=1)\n",
    "data.shape"
   ],
   "metadata": {
    "collapsed": false,
    "ExecuteTime": {
     "end_time": "2023-10-07T10:48:16.752962300Z",
     "start_time": "2023-10-07T10:48:16.649460600Z"
    }
   },
   "id": "f68ddb25e7cf004"
  },
  {
   "cell_type": "code",
   "execution_count": 29,
   "outputs": [
    {
     "data": {
      "text/plain": "tBodyAcc-mean()-X       0\ntBodyAcc-mean()-Y       0\ntBodyAcc-mean()-Z       0\ntBodyAcc-std()-X        0\ntBodyAcc-std()-Y        0\n                       ..\nangle(X,gravityMean)    0\nangle(Y,gravityMean)    0\nangle(Z,gravityMean)    0\nsubject                 0\nActivity                0\nLength: 542, dtype: int64"
     },
     "execution_count": 29,
     "metadata": {},
     "output_type": "execute_result"
    }
   ],
   "source": [
    "# Taking care of missing values\n",
    "data.isnull().sum()"
   ],
   "metadata": {
    "collapsed": false,
    "ExecuteTime": {
     "end_time": "2023-10-07T10:48:16.752962300Z",
     "start_time": "2023-10-07T10:48:16.705654400Z"
    }
   },
   "id": "f021a8b2aaa9bbc1"
  },
  {
   "cell_type": "code",
   "execution_count": 30,
   "outputs": [
    {
     "data": {
      "text/plain": "<Figure size 640x480 with 1 Axes>",
      "image/png": "[encoded data removed]"
     },
     "metadata": {},
     "output_type": "display_data"
    }
   ],
   "source": [
    "sns.countplot(data['Activity'])\n",
    "plt.xticks(rotation=35)\n",
    "plt.show() # to remove the information before the graph"
   ],
   "metadata": {
    "collapsed": false,
    "ExecuteTime": {
     "end_time": "2023-10-07T10:48:17.186878100Z",
     "start_time": "2023-10-07T10:48:16.744751Z"
    }
   },
   "id": "a64b3d47000ea86e"
  },
  {
   "cell_type": "code",
   "execution_count": 31,
   "outputs": [],
   "source": [
    "# Store feature matrix in X and Response(Target) in vector y\n",
    "X = data.drop('Activity',axis=1)\n",
    "y = data['Activity']"
   ],
   "metadata": {
    "collapsed": false,
    "ExecuteTime": {
     "end_time": "2023-10-07T10:48:17.437986800Z",
     "start_time": "2023-10-07T10:48:17.181655700Z"
    }
   },
   "id": "9d852efd56c1319d"
  },
  {
   "cell_type": "code",
   "execution_count": 32,
   "outputs": [
    {
     "data": {
      "text/plain": "      tBodyAcc-mean()-X  tBodyAcc-mean()-Y  tBodyAcc-mean()-Z  \\\n0              0.288585          -0.020294          -0.132905   \n1              0.278419          -0.016411          -0.123520   \n2              0.279653          -0.019467          -0.113462   \n3              0.279174          -0.026201          -0.123283   \n4              0.276629          -0.016570          -0.115362   \n...                 ...                ...                ...   \n7347           0.299665          -0.057193          -0.181233   \n7348           0.273853          -0.007749          -0.147468   \n7349           0.273387          -0.017011          -0.045022   \n7350           0.289654          -0.018843          -0.158281   \n7351           0.351503          -0.012423          -0.203867   \n\n      tBodyAcc-std()-X  tBodyAcc-std()-Y  tBodyAcc-std()-Z  tBodyAcc-mad()-X  \\\n0            -0.995279         -0.983111         -0.913526         -0.995112   \n1            -0.998245         -0.975300         -0.960322         -0.998807   \n2            -0.995380         -0.967187         -0.978944         -0.996520   \n3            -0.996091         -0.983403         -0.990675         -0.997099   \n4            -0.998139         -0.980817         -0.990482         -0.998321   \n...                ...               ...               ...               ...   \n7347         -0.195387          0.039905          0.077078         -0.282301   \n7348         -0.235309          0.004816          0.059280         -0.322552   \n7349         -0.218218         -0.103822          0.274533         -0.304515   \n7350         -0.219139         -0.111412          0.268893         -0.310487   \n7351         -0.269270         -0.087212          0.177404         -0.377404   \n\n      tBodyAcc-mad()-Y  tBodyAcc-mad()-Z  tBodyAcc-max()-X  ...  \\\n0            -0.983185         -0.923527         -0.934724  ...   \n1            -0.974914         -0.957686         -0.943068  ...   \n2            -0.963668         -0.977469         -0.938692  ...   \n3            -0.982750         -0.989302         -0.938692  ...   \n4            -0.979672         -0.990441         -0.942469  ...   \n...                ...               ...               ...  ...   \n7347          0.043616          0.060410          0.210795  ...   \n7348         -0.029456          0.080585          0.117440  ...   \n7349         -0.098913          0.332584          0.043999  ...   \n7350         -0.068200          0.319473          0.101702  ...   \n7351         -0.038678          0.229430          0.269013  ...   \n\n      fBodyBodyGyroJerkMag-skewness()  fBodyBodyGyroJerkMag-kurtosis()  \\\n0                           -0.298676                        -0.710304   \n1                           -0.595051                        -0.861499   \n2                           -0.390748                        -0.760104   \n3                           -0.117290                        -0.482845   \n4                           -0.351471                        -0.699205   \n...                               ...                              ...   \n7347                        -0.588433                        -0.880324   \n7348                        -0.390738                        -0.680744   \n7349                         0.025145                        -0.304029   \n7350                         0.063907                        -0.344314   \n7351                        -0.387052                        -0.740738   \n\n      angle(tBodyAccMean,gravity)  angle(tBodyAccJerkMean),gravityMean)  \\\n0                       -0.112754                              0.030400   \n1                        0.053477                             -0.007435   \n2                       -0.118559                              0.177899   \n3                       -0.036788                             -0.012892   \n4                        0.123320                              0.122542   \n...                           ...                                   ...   \n7347                    -0.190437                              0.829718   \n7348                     0.064907                              0.875679   \n7349                     0.052806                             -0.266724   \n7350                    -0.101360                              0.700740   \n7351                    -0.280088                             -0.007739   \n\n      angle(tBodyGyroMean,gravityMean)  angle(tBodyGyroJerkMean,gravityMean)  \\\n0                            -0.464761                             -0.018446   \n1                            -0.732626                              0.703511   \n2                             0.100699                              0.808529   \n3                             0.640011                             -0.485366   \n4                             0.693578                             -0.615971   \n...                                ...                                   ...   \n7347                          0.206972                             -0.425619   \n7348                         -0.879033                              0.400219   \n7349                          0.864404                              0.701169   \n7350                          0.936674                             -0.589479   \n7351                         -0.056088                             -0.616956   \n\n      angle(X,gravityMean)  angle(Y,gravityMean)  angle(Z,gravityMean)  \\\n0                -0.841247              0.179941             -0.058627   \n1                -0.844788              0.180289             -0.054317   \n2                -0.848933              0.180637             -0.049118   \n3                -0.848649              0.181935             -0.047663   \n4                -0.847865              0.185151             -0.043892   \n...                    ...                   ...                   ...   \n7347             -0.791883              0.238604              0.049819   \n7348             -0.771840              0.252676              0.050053   \n7349             -0.779133              0.249145              0.040811   \n7350             -0.785181              0.246432              0.025339   \n7351             -0.783267              0.246809              0.036695   \n\n      subject  \n0           1  \n1           1  \n2           1  \n3           1  \n4           1  \n...       ...  \n7347       30  \n7348       30  \n7349       30  \n7350       30  \n7351       30  \n\n[7352 rows x 541 columns]",
      "text/html": "<div>\n<style scoped>\n    .dataframe tbody tr th:only-of-type {\n        vertical-align: middle;\n    }\n\n    .dataframe tbody tr th {\n        vertical-align: top;\n    }\n\n    .dataframe thead th {\n        text-align: right;\n    }\n</style>\n<table border=\"1\" class=\"dataframe\">\n  <thead>\n    <tr style=\"text-align: right;\">\n      <th></th>\n      <th>tBodyAcc-mean()-X</th>\n      <th>tBodyAcc-mean()-Y</th>\n      <th>tBodyAcc-mean()-Z</th>\n      <th>tBodyAcc-std()-X</th>\n      <th>tBodyAcc-std()-Y</th>\n      <th>tBodyAcc-std()-Z</th>\n      <th>tBodyAcc-mad()-X</th>\n      <th>tBodyAcc-mad()-Y</th>\n      <th>tBodyAcc-mad()-Z</th>\n      <th>tBodyAcc-max()-X</th>\n      <th>...</th>\n      <th>fBodyBodyGyroJerkMag-skewness()</th>\n      <th>fBodyBodyGyroJerkMag-kurtosis()</th>\n      <th>angle(tBodyAccMean,gravity)</th>\n      <th>angle(tBodyAccJerkMean),gravityMean)</th>\n      <th>angle(tBodyGyroMean,gravityMean)</th>\n      <th>angle(tBodyGyroJerkMean,gravityMean)</th>\n      <th>angle(X,gravityMean)</th>\n      <th>angle(Y,gravityMean)</th>\n      <th>angle(Z,gravityMean)</th>\n      <th>subject</th>\n    </tr>\n  </thead>\n  <tbody>\n    <tr>\n      <th>0</th>\n      <td>0.288585</td>\n      <td>-0.020294</td>\n      <td>-0.132905</td>\n      <td>-0.995279</td>\n      <td>-0.983111</td>\n      <td>-0.913526</td>\n      <td>-0.995112</td>\n      <td>-0.983185</td>\n      <td>-0.923527</td>\n      <td>-0.934724</td>\n      <td>...</td>\n      <td>-0.298676</td>\n      <td>-0.710304</td>\n      <td>-0.112754</td>\n      <td>0.030400</td>\n      <td>-0.464761</td>\n      <td>-0.018446</td>\n      <td>-0.841247</td>\n      <td>0.179941</td>\n      <td>-0.058627</td>\n      <td>1</td>\n    </tr>\n    <tr>\n      <th>1</th>\n      <td>0.278419</td>\n      <td>-0.016411</td>\n      <td>-0.123520</td>\n      <td>-0.998245</td>\n      <td>-0.975300</td>\n      <td>-0.960322</td>\n      <td>-0.998807</td>\n      <td>-0.974914</td>\n      <td>-0.957686</td>\n      <td>-0.943068</td>\n      <td>...</td>\n      <td>-0.595051</td>\n      <td>-0.861499</td>\n      <td>0.053477</td>\n      <td>-0.007435</td>\n      <td>-0.732626</td>\n      <td>0.703511</td>\n      <td>-0.844788</td>\n      <td>0.180289</td>\n      <td>-0.054317</td>\n      <td>1</td>\n    </tr>\n    <tr>\n      <th>2</th>\n      <td>0.279653</td>\n      <td>-0.019467</td>\n      <td>-0.113462</td>\n      <td>-0.995380</td>\n      <td>-0.967187</td>\n      <td>-0.978944</td>\n      <td>-0.996520</td>\n      <td>-0.963668</td>\n      <td>-0.977469</td>\n      <td>-0.938692</td>\n      <td>...</td>\n      <td>-0.390748</td>\n      <td>-0.760104</td>\n      <td>-0.118559</td>\n      <td>0.177899</td>\n      <td>0.100699</td>\n      <td>0.808529</td>\n      <td>-0.848933</td>\n      <td>0.180637</td>\n      <td>-0.049118</td>\n      <td>1</td>\n    </tr>\n    <tr>\n      <th>3</th>\n      <td>0.279174</td>\n      <td>-0.026201</td>\n      <td>-0.123283</td>\n      <td>-0.996091</td>\n      <td>-0.983403</td>\n      <td>-0.990675</td>\n      <td>-0.997099</td>\n      <td>-0.982750</td>\n      <td>-0.989302</td>\n      <td>-0.938692</td>\n      <td>...</td>\n      <td>-0.117290</td>\n      <td>-0.482845</td>\n      <td>-0.036788</td>\n      <td>-0.012892</td>\n      <td>0.640011</td>\n      <td>-0.485366</td>\n      <td>-0.848649</td>\n      <td>0.181935</td>\n      <td>-0.047663</td>\n      <td>1</td>\n    </tr>\n    <tr>\n      <th>4</th>\n      <td>0.276629</td>\n      <td>-0.016570</td>\n      <td>-0.115362</td>\n      <td>-0.998139</td>\n      <td>-0.980817</td>\n      <td>-0.990482</td>\n      <td>-0.998321</td>\n      <td>-0.979672</td>\n      <td>-0.990441</td>\n      <td>-0.942469</td>\n      <td>...</td>\n      <td>-0.351471</td>\n      <td>-0.699205</td>\n      <td>0.123320</td>\n      <td>0.122542</td>\n      <td>0.693578</td>\n      <td>-0.615971</td>\n      <td>-0.847865</td>\n      <td>0.185151</td>\n      <td>-0.043892</td>\n      <td>1</td>\n    </tr>\n    <tr>\n      <th>...</th>\n      <td>...</td>\n      <td>...</td>\n      <td>...</td>\n      <td>...</td>\n      <td>...</td>\n      <td>...</td>\n      <td>...</td>\n      <td>...</td>\n      <td>...</td>\n      <td>...</td>\n      <td>...</td>\n      <td>...</td>\n      <td>...</td>\n      <td>...</td>\n      <td>...</td>\n      <td>...</td>\n      <td>...</td>\n      <td>...</td>\n      <td>...</td>\n      <td>...</td>\n      <td>...</td>\n    </tr>\n    <tr>\n      <th>7347</th>\n      <td>0.299665</td>\n      <td>-0.057193</td>\n      <td>-0.181233</td>\n      <td>-0.195387</td>\n      <td>0.039905</td>\n      <td>0.077078</td>\n      <td>-0.282301</td>\n      <td>0.043616</td>\n      <td>0.060410</td>\n      <td>0.210795</td>\n      <td>...</td>\n      <td>-0.588433</td>\n      <td>-0.880324</td>\n      <td>-0.190437</td>\n      <td>0.829718</td>\n      <td>0.206972</td>\n      <td>-0.425619</td>\n      <td>-0.791883</td>\n      <td>0.238604</td>\n      <td>0.049819</td>\n      <td>30</td>\n    </tr>\n    <tr>\n      <th>7348</th>\n      <td>0.273853</td>\n      <td>-0.007749</td>\n      <td>-0.147468</td>\n      <td>-0.235309</td>\n      <td>0.004816</td>\n      <td>0.059280</td>\n      <td>-0.322552</td>\n      <td>-0.029456</td>\n      <td>0.080585</td>\n      <td>0.117440</td>\n      <td>...</td>\n      <td>-0.390738</td>\n      <td>-0.680744</td>\n      <td>0.064907</td>\n      <td>0.875679</td>\n      <td>-0.879033</td>\n      <td>0.400219</td>\n      <td>-0.771840</td>\n      <td>0.252676</td>\n      <td>0.050053</td>\n      <td>30</td>\n    </tr>\n    <tr>\n      <th>7349</th>\n      <td>0.273387</td>\n      <td>-0.017011</td>\n      <td>-0.045022</td>\n      <td>-0.218218</td>\n      <td>-0.103822</td>\n      <td>0.274533</td>\n      <td>-0.304515</td>\n      <td>-0.098913</td>\n      <td>0.332584</td>\n      <td>0.043999</td>\n      <td>...</td>\n      <td>0.025145</td>\n      <td>-0.304029</td>\n      <td>0.052806</td>\n      <td>-0.266724</td>\n      <td>0.864404</td>\n      <td>0.701169</td>\n      <td>-0.779133</td>\n      <td>0.249145</td>\n      <td>0.040811</td>\n      <td>30</td>\n    </tr>\n    <tr>\n      <th>7350</th>\n      <td>0.289654</td>\n      <td>-0.018843</td>\n      <td>-0.158281</td>\n      <td>-0.219139</td>\n      <td>-0.111412</td>\n      <td>0.268893</td>\n      <td>-0.310487</td>\n      <td>-0.068200</td>\n      <td>0.319473</td>\n      <td>0.101702</td>\n      <td>...</td>\n      <td>0.063907</td>\n      <td>-0.344314</td>\n      <td>-0.101360</td>\n      <td>0.700740</td>\n      <td>0.936674</td>\n      <td>-0.589479</td>\n      <td>-0.785181</td>\n      <td>0.246432</td>\n      <td>0.025339</td>\n      <td>30</td>\n    </tr>\n    <tr>\n      <th>7351</th>\n      <td>0.351503</td>\n      <td>-0.012423</td>\n      <td>-0.203867</td>\n      <td>-0.269270</td>\n      <td>-0.087212</td>\n      <td>0.177404</td>\n      <td>-0.377404</td>\n      <td>-0.038678</td>\n      <td>0.229430</td>\n      <td>0.269013</td>\n      <td>...</td>\n      <td>-0.387052</td>\n      <td>-0.740738</td>\n      <td>-0.280088</td>\n      <td>-0.007739</td>\n      <td>-0.056088</td>\n      <td>-0.616956</td>\n      <td>-0.783267</td>\n      <td>0.246809</td>\n      <td>0.036695</td>\n      <td>30</td>\n    </tr>\n  </tbody>\n</table>\n<p>7352 rows × 541 columns</p>\n</div>"
     },
     "execution_count": 32,
     "metadata": {},
     "output_type": "execute_result"
    }
   ],
   "source": [
    "X"
   ],
   "metadata": {
    "collapsed": false,
    "ExecuteTime": {
     "end_time": "2023-10-07T10:48:17.449586900Z",
     "start_time": "2023-10-07T10:48:17.253720Z"
    }
   },
   "id": "b18f73b5f300aca4"
  },
  {
   "cell_type": "code",
   "execution_count": 33,
   "outputs": [],
   "source": [
    "# Encode strings values in y to numerical values\n",
    "from sklearn.preprocessing import LabelEncoder\n",
    "le = LabelEncoder()\n",
    "y = le.fit_transform(y)"
   ],
   "metadata": {
    "collapsed": false,
    "ExecuteTime": {
     "end_time": "2023-10-07T10:48:17.453610200Z",
     "start_time": "2023-10-07T10:48:17.355409500Z"
    }
   },
   "id": "ae70492db14bcce9"
  },
  {
   "cell_type": "code",
   "execution_count": 34,
   "outputs": [
    {
     "data": {
      "text/plain": "array([2, 2, 2, ..., 5, 5, 5])"
     },
     "execution_count": 34,
     "metadata": {},
     "output_type": "execute_result"
    }
   ],
   "source": [
    "y"
   ],
   "metadata": {
    "collapsed": false,
    "ExecuteTime": {
     "end_time": "2023-10-07T10:48:17.461593600Z",
     "start_time": "2023-10-07T10:48:17.378459400Z"
    }
   },
   "id": "e84d36094404db36"
  },
  {
   "cell_type": "code",
   "execution_count": 35,
   "outputs": [],
   "source": [
    "# Splitting the dataset into training set and test set\n",
    "from sklearn.model_selection import train_test_split\n",
    "X_train,X_test,y_train,y_test = train_test_split(X,y,test_size=0.20,random_state=42) # test_size = 20% of the dataset"
   ],
   "metadata": {
    "collapsed": false,
    "ExecuteTime": {
     "end_time": "2023-10-07T10:48:17.540221700Z",
     "start_time": "2023-10-07T10:48:17.397324400Z"
    }
   },
   "id": "ba2aaae7cb8456d6"
  },
  {
   "cell_type": "code",
   "execution_count": 36,
   "outputs": [
    {
     "name": "stderr",
     "output_type": "stream",
     "text": [
      "C:\\Users\\Abhimanyu\\PycharmProjects\\pythonProject\\venv\\Lib\\site-packages\\sklearn\\linear_model\\_logistic.py:460: ConvergenceWarning: lbfgs failed to converge (status=1):\n",
      "STOP: TOTAL NO. of ITERATIONS REACHED LIMIT.\n",
      "\n",
      "Increase the number of iterations (max_iter) or scale the data as shown in:\n",
      "    https://scikit-learn.org/stable/modules/preprocessing.html\n",
      "Please also refer to the documentation for alternative solver options:\n",
      "    https://scikit-learn.org/stable/modules/linear_model.html#logistic-regression\n",
      "  n_iter_i = _check_optimize_result(\n"
     ]
    },
    {
     "data": {
      "text/plain": "LogisticRegression()",
      "text/html": "<style>#sk-container-id-2 {color: black;}#sk-container-id-2 pre{padding: 0;}#sk-container-id-2 div.sk-toggleable {background-color: white;}#sk-container-id-2 label.sk-toggleable__label {cursor: pointer;display: block;width: 100%;margin-bottom: 0;padding: 0.3em;box-sizing: border-box;text-align: center;}#sk-container-id-2 label.sk-toggleable__label-arrow:before {content: \"▸\";float: left;margin-right: 0.25em;color: #696969;}#sk-container-id-2 label.sk-toggleable__label-arrow:hover:before {color: black;}#sk-container-id-2 div.sk-estimator:hover label.sk-toggleable__label-arrow:before {color: black;}#sk-container-id-2 div.sk-toggleable__content {max-height: 0;max-width: 0;overflow: hidden;text-align: left;background-color: #f0f8ff;}#sk-container-id-2 div.sk-toggleable__content pre {margin: 0.2em;color: black;border-radius: 0.25em;background-color: #f0f8ff;}#sk-container-id-2 input.sk-toggleable__control:checked~div.sk-toggleable__content {max-height: 200px;max-width: 100%;overflow: auto;}#sk-container-id-2 input.sk-toggleable__control:checked~label.sk-toggleable__label-arrow:before {content: \"▾\";}#sk-container-id-2 div.sk-estimator input.sk-toggleable__control:checked~label.sk-toggleable__label {background-color: #d4ebff;}#sk-container-id-2 div.sk-label input.sk-toggleable__control:checked~label.sk-toggleable__label {background-color: #d4ebff;}#sk-container-id-2 input.sk-hidden--visually {border: 0;clip: rect(1px 1px 1px 1px);clip: rect(1px, 1px, 1px, 1px);height: 1px;margin: -1px;overflow: hidden;padding: 0;position: absolute;width: 1px;}#sk-container-id-2 div.sk-estimator {font-family: monospace;background-color: #f0f8ff;border: 1px dotted black;border-radius: 0.25em;box-sizing: border-box;margin-bottom: 0.5em;}#sk-container-id-2 div.sk-estimator:hover {background-color: #d4ebff;}#sk-container-id-2 div.sk-parallel-item::after {content: \"\";width: 100%;border-bottom: 1px solid gray;flex-grow: 1;}#sk-container-id-2 div.sk-label:hover label.sk-toggleable__label {background-color: #d4ebff;}#sk-container-id-2 div.sk-serial::before {content: \"\";position: absolute;border-left: 1px solid gray;box-sizing: border-box;top: 0;bottom: 0;left: 50%;z-index: 0;}#sk-container-id-2 div.sk-serial {display: flex;flex-direction: column;align-items: center;background-color: white;padding-right: 0.2em;padding-left: 0.2em;position: relative;}#sk-container-id-2 div.sk-item {position: relative;z-index: 1;}#sk-container-id-2 div.sk-parallel {display: flex;align-items: stretch;justify-content: center;background-color: white;position: relative;}#sk-container-id-2 div.sk-item::before, #sk-container-id-2 div.sk-parallel-item::before {content: \"\";position: absolute;border-left: 1px solid gray;box-sizing: border-box;top: 0;bottom: 0;left: 50%;z-index: -1;}#sk-container-id-2 div.sk-parallel-item {display: flex;flex-direction: column;z-index: 1;position: relative;background-color: white;}#sk-container-id-2 div.sk-parallel-item:first-child::after {align-self: flex-end;width: 50%;}#sk-container-id-2 div.sk-parallel-item:last-child::after {align-self: flex-start;width: 50%;}#sk-container-id-2 div.sk-parallel-item:only-child::after {width: 0;}#sk-container-id-2 div.sk-dashed-wrapped {border: 1px dashed gray;margin: 0 0.4em 0.5em 0.4em;box-sizing: border-box;padding-bottom: 0.4em;background-color: white;}#sk-container-id-2 div.sk-label label {font-family: monospace;font-weight: bold;display: inline-block;line-height: 1.2em;}#sk-container-id-2 div.sk-label-container {text-align: center;}#sk-container-id-2 div.sk-container {/* jupyter's `normalize.less` sets `[hidden] { display: none; }` but bootstrap.min.css set `[hidden] { display: none !important; }` so we also need the `!important` here to be able to override the default hidden behavior on the sphinx rendered scikit-learn.org. See: https://github.com/scikit-learn/scikit-learn/issues/21755 */display: inline-block !important;position: relative;}#sk-container-id-2 div.sk-text-repr-fallback {display: none;}</style><div id=\"sk-container-id-2\" class=\"sk-top-container\"><div class=\"sk-text-repr-fallback\"><pre>LogisticRegression()</pre><b>In a Jupyter environment, please rerun this cell to show the HTML representation or trust the notebook. <br />On GitHub, the HTML representation is unable to render, please try loading this page with nbviewer.org.</b></div><div class=\"sk-container\" hidden><div class=\"sk-item\"><div class=\"sk-estimator sk-toggleable\"><input class=\"sk-toggleable__control sk-hidden--visually\" id=\"sk-estimator-id-2\" type=\"checkbox\" checked><label for=\"sk-estimator-id-2\" class=\"sk-toggleable__label sk-toggleable__label-arrow\">LogisticRegression</label><div class=\"sk-toggleable__content\"><pre>LogisticRegression()</pre></div></div></div></div></div>"
     },
     "execution_count": 36,
     "metadata": {},
     "output_type": "execute_result"
    }
   ],
   "source": [
    "# Logistic Regression classifier\n",
    "from sklearn.linear_model import LogisticRegression\n",
    "from sklearn.metrics import accuracy_score\n",
    "log = LogisticRegression()\n",
    "log.fit(X_train,y_train)"
   ],
   "metadata": {
    "collapsed": false,
    "ExecuteTime": {
     "end_time": "2023-10-07T10:48:19.464226800Z",
     "start_time": "2023-10-07T10:48:17.483162900Z"
    }
   },
   "id": "98bd475ad21d6dcc"
  },
  {
   "cell_type": "code",
   "execution_count": 37,
   "outputs": [
    {
     "data": {
      "text/plain": "0.9796057104010877"
     },
     "execution_count": 37,
     "metadata": {},
     "output_type": "execute_result"
    }
   ],
   "source": [
    "y_pred1 = log.predict(X_test)\n",
    "accuracy_score(y_test,y_pred1)"
   ],
   "metadata": {
    "collapsed": false,
    "ExecuteTime": {
     "end_time": "2023-10-07T10:49:48.836292500Z",
     "start_time": "2023-10-07T10:49:48.776550300Z"
    }
   },
   "id": "a3c4f24a157763c9"
  },
  {
   "cell_type": "code",
   "execution_count": 39,
   "outputs": [
    {
     "data": {
      "text/plain": "RandomForestClassifier()",
      "text/html": "<style>#sk-container-id-3 {color: black;}#sk-container-id-3 pre{padding: 0;}#sk-container-id-3 div.sk-toggleable {background-color: white;}#sk-container-id-3 label.sk-toggleable__label {cursor: pointer;display: block;width: 100%;margin-bottom: 0;padding: 0.3em;box-sizing: border-box;text-align: center;}#sk-container-id-3 label.sk-toggleable__label-arrow:before {content: \"▸\";float: left;margin-right: 0.25em;color: #696969;}#sk-container-id-3 label.sk-toggleable__label-arrow:hover:before {color: black;}#sk-container-id-3 div.sk-estimator:hover label.sk-toggleable__label-arrow:before {color: black;}#sk-container-id-3 div.sk-toggleable__content {max-height: 0;max-width: 0;overflow: hidden;text-align: left;background-color: #f0f8ff;}#sk-container-id-3 div.sk-toggleable__content pre {margin: 0.2em;color: black;border-radius: 0.25em;background-color: #f0f8ff;}#sk-container-id-3 input.sk-toggleable__control:checked~div.sk-toggleable__content {max-height: 200px;max-width: 100%;overflow: auto;}#sk-container-id-3 input.sk-toggleable__control:checked~label.sk-toggleable__label-arrow:before {content: \"▾\";}#sk-container-id-3 div.sk-estimator input.sk-toggleable__control:checked~label.sk-toggleable__label {background-color: #d4ebff;}#sk-container-id-3 div.sk-label input.sk-toggleable__control:checked~label.sk-toggleable__label {background-color: #d4ebff;}#sk-container-id-3 input.sk-hidden--visually {border: 0;clip: rect(1px 1px 1px 1px);clip: rect(1px, 1px, 1px, 1px);height: 1px;margin: -1px;overflow: hidden;padding: 0;position: absolute;width: 1px;}#sk-container-id-3 div.sk-estimator {font-family: monospace;background-color: #f0f8ff;border: 1px dotted black;border-radius: 0.25em;box-sizing: border-box;margin-bottom: 0.5em;}#sk-container-id-3 div.sk-estimator:hover {background-color: #d4ebff;}#sk-container-id-3 div.sk-parallel-item::after {content: \"\";width: 100%;border-bottom: 1px solid gray;flex-grow: 1;}#sk-container-id-3 div.sk-label:hover label.sk-toggleable__label {background-color: #d4ebff;}#sk-container-id-3 div.sk-serial::before {content: \"\";position: absolute;border-left: 1px solid gray;box-sizing: border-box;top: 0;bottom: 0;left: 50%;z-index: 0;}#sk-container-id-3 div.sk-serial {display: flex;flex-direction: column;align-items: center;background-color: white;padding-right: 0.2em;padding-left: 0.2em;position: relative;}#sk-container-id-3 div.sk-item {position: relative;z-index: 1;}#sk-container-id-3 div.sk-parallel {display: flex;align-items: stretch;justify-content: center;background-color: white;position: relative;}#sk-container-id-3 div.sk-item::before, #sk-container-id-3 div.sk-parallel-item::before {content: \"\";position: absolute;border-left: 1px solid gray;box-sizing: border-box;top: 0;bottom: 0;left: 50%;z-index: -1;}#sk-container-id-3 div.sk-parallel-item {display: flex;flex-direction: column;z-index: 1;position: relative;background-color: white;}#sk-container-id-3 div.sk-parallel-item:first-child::after {align-self: flex-end;width: 50%;}#sk-container-id-3 div.sk-parallel-item:last-child::after {align-self: flex-start;width: 50%;}#sk-container-id-3 div.sk-parallel-item:only-child::after {width: 0;}#sk-container-id-3 div.sk-dashed-wrapped {border: 1px dashed gray;margin: 0 0.4em 0.5em 0.4em;box-sizing: border-box;padding-bottom: 0.4em;background-color: white;}#sk-container-id-3 div.sk-label label {font-family: monospace;font-weight: bold;display: inline-block;line-height: 1.2em;}#sk-container-id-3 div.sk-label-container {text-align: center;}#sk-container-id-3 div.sk-container {/* jupyter's `normalize.less` sets `[hidden] { display: none; }` but bootstrap.min.css set `[hidden] { display: none !important; }` so we also need the `!important` here to be able to override the default hidden behavior on the sphinx rendered scikit-learn.org. See: https://github.com/scikit-learn/scikit-learn/issues/21755 */display: inline-block !important;position: relative;}#sk-container-id-3 div.sk-text-repr-fallback {display: none;}</style><div id=\"sk-container-id-3\" class=\"sk-top-container\"><div class=\"sk-text-repr-fallback\"><pre>RandomForestClassifier()</pre><b>In a Jupyter environment, please rerun this cell to show the HTML representation or trust the notebook. <br />On GitHub, the HTML representation is unable to render, please try loading this page with nbviewer.org.</b></div><div class=\"sk-container\" hidden><div class=\"sk-item\"><div class=\"sk-estimator sk-toggleable\"><input class=\"sk-toggleable__control sk-hidden--visually\" id=\"sk-estimator-id-3\" type=\"checkbox\" checked><label for=\"sk-estimator-id-3\" class=\"sk-toggleable__label sk-toggleable__label-arrow\">RandomForestClassifier</label><div class=\"sk-toggleable__content\"><pre>RandomForestClassifier()</pre></div></div></div></div></div>"
     },
     "execution_count": 39,
     "metadata": {},
     "output_type": "execute_result"
    }
   ],
   "source": [
    "# Random forest classifier\n",
    "from sklearn.ensemble import RandomForestClassifier\n",
    "rf = RandomForestClassifier()\n",
    "rf.fit(X_train,y_train)"
   ],
   "metadata": {
    "collapsed": false,
    "ExecuteTime": {
     "end_time": "2023-10-07T10:53:27.566222700Z",
     "start_time": "2023-10-07T10:52:32.528652900Z"
    }
   },
   "id": "4c4fa90c7c7790df"
  },
  {
   "cell_type": "code",
   "execution_count": 40,
   "outputs": [
    {
     "data": {
      "text/plain": "0.9796057104010877"
     },
     "execution_count": 40,
     "metadata": {},
     "output_type": "execute_result"
    }
   ],
   "source": [
    "y_pred2 = rf.predict(X_test)\n",
    "accuracy_score(y_test,y_pred2)"
   ],
   "metadata": {
    "collapsed": false,
    "ExecuteTime": {
     "end_time": "2023-10-07T10:54:55.063865400Z",
     "start_time": "2023-10-07T10:54:54.974017500Z"
    }
   },
   "id": "8455b60b7d58a8d8"
  },
  {
   "cell_type": "code",
   "execution_count": 41,
   "outputs": [
    {
     "name": "stdout",
     "output_type": "stream",
     "text": [
      "[  3   4   5   6   7   8   9  10  11  12  13  14  15  16  19  20  21  22\n",
      "  23  40  41  49  50  52  53  56  57  83  84  85  86  87  88  89  90  91\n",
      "  92  93  94  95  96  97  99 100 101 102 103 104 123 124 125 126 127 128\n",
      " 129 131 132 133 134 135 139 140 141 163 165 166 168 169 171 172 174 175\n",
      " 179 180 181 182 183 184 200 201 202 203 205 206 207 212 213 214 215 216\n",
      " 217 218 219 224 225 226 227 230 236 237 238 242 243 248 249 250 251 252\n",
      " 253 254 255 256 257 258 259 263 264 265 267 268 269 270 271 272 285 293\n",
      " 297 299 307 311 327 328 329 330 331 332 333 334 335 336 337 338 342 343\n",
      " 344 346 347 348 349 350 351 364 372 376 378 390 406 407 408 409 410 411\n",
      " 412 413 414 415 417 421 425 426 427 428 429 430 485 486 487 488 490 491\n",
      " 492 497 498 499 500 502 503 504 509 510 511 512 515 516 521 523 527 528\n",
      " 537 538]\n"
     ]
    }
   ],
   "source": [
    "# Filtering method\n",
    "from sklearn.feature_selection import SelectKBest,f_classif\n",
    "k = 200\n",
    "selector = SelectKBest(f_classif,k=k)\n",
    "X_train_selected = selector.fit_transform(X_train,y_train)\n",
    "X_test_selected = selector.transform(X_test)\n",
    "\n",
    "selected_indices = selector.get_support(indices=True)\n",
    "selected_features = X_train.columns[selected_indices]\n",
    "print(selected_indices)"
   ],
   "metadata": {
    "collapsed": false,
    "ExecuteTime": {
     "end_time": "2023-10-07T11:39:03.862358400Z",
     "start_time": "2023-10-07T11:39:03.310529400Z"
    }
   },
   "id": "a1b7503815425ab5"
  },
  {
   "cell_type": "code",
   "execution_count": null,
   "outputs": [],
   "source": [],
   "metadata": {
    "collapsed": false
   },
   "id": "5a7466a0d353f07c"
  }
 ],
 "metadata": {
  "kernelspec": {
   "display_name": "Python 3",
   "language": "python",
   "name": "python3"
  },
  "language_info": {
   "codemirror_mode": {
    "name": "ipython",
    "version": 2
   },
   "file_extension": ".py",
   "mimetype": "text/x-python",
   "name": "python",
   "nbconvert_exporter": "python",
   "pygments_lexer": "ipython2",
   "version": "2.7.6"
  }
 },
 "nbformat": 4,
 "nbformat_minor": 5
}
